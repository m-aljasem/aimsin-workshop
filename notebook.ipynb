{
 "cells": [
  {
   "cell_type": "code",
   "execution_count": null,
   "id": "d52365f1",
   "metadata": {
    "vscode": {
     "languageId": "plaintext"
    }
   },
   "outputs": [],
   "source": [
    "import requests, zipfile, io\n",
    "\n",
    "zip_file_url = \"https://raw.githubusercontent.com/m-aljasem/aimsin-workshop/refs/heads/main/test.zip\"\n",
    "directory = '/content/drive/MyDrive/AIMIN_Workshop/session6,7'\n",
    "r = requests.get(zip_file_url)\n",
    "z = zipfile.ZipFile(io.BytesIO(r.content))\n",
    "z.extractall(\"/path/to/destination_directory\")\n"
   ]
  }
 ],
 "metadata": {
  "language_info": {
   "name": "python"
  }
 },
 "nbformat": 4,
 "nbformat_minor": 5
}
