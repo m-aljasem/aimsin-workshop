{
 "cells": [
  {
   "cell_type": "code",
   "execution_count": null,
   "id": "d52365f1",
   "metadata": {
    "vscode": {
     "languageId": "plaintext"
    }
   },
   "outputs": [],
   "source": [
    "import requests, zipfile, io\n",
    "\n",
    "zip_file_url = \"https://raw.githubusercontent.com/m-aljasem/aimsin-workshop/refs/heads/main/test.zip\"\n",
    "directory = '/content/drive/MyDrive/AIMIN_Workshop/session6,7'\n",
    "r = requests.get(zip_file_url)\n",
    "z = zipfile.ZipFile(io.BytesIO(r.content))\n",
    "z.extractall(\"/path/to/destination_directory\")\n",
    "\n",
    "\n",
    "ex_data = pd.read_csv(r\"{directory}\\datatest.csv\")\n",
    "ex_lb = pd.read_csv(r\"{directory}\\labels.csv\")\n",
    "\n",
    "ex_data = np.reshape(ex_data,[600, 256, 256, 1])\n",
    "ex_lb = np.reshape(ex_lb,[600,])\n",
    "\n",
    "print(ex_data.shape , ex_lb.shape)"
   ]
  }
 ],
 "metadata": {
  "language_info": {
   "name": "python"
  }
 },
 "nbformat": 4,
 "nbformat_minor": 5
}
